{
 "cells": [
  {
   "cell_type": "code",
   "execution_count": null,
   "metadata": {},
   "outputs": [],
   "source": [
    "import numpy as np "
   ]
  },
  {
   "cell_type": "code",
   "execution_count": null,
   "metadata": {},
   "outputs": [
    {
     "name": "stdout",
     "output_type": "stream",
     "text": [
      "[ 3  1  5  8  3  8  2  8  2  6  3  4  6  6  4  2  4  5  4  6  6  5  6  5\n",
      "  1  3  5  9  3  7  4  4  3  7  8  6  1  3  4  7  4  9  4  6  4  3  6  6\n",
      "  5  3  3  8  6  6  1  4  3  6  7  3  3  6  5  4  1  5  5  4  7  7  5  7\n",
      "  7  6  5  2  4  6  9  3  4  7 10  3  5  5  4 11  2  5  5  2  5  3 11  6\n",
      " 17  5  8  7  7  5  4  9  2  4  6  6  3  7  3  3  5  5  3  4  6  6  5  4\n",
      " 10  4  7  5  4  6  3  2  3  4  4  6  7 11  5 12  4 10  5  5 11  4  6  6\n",
      "  5  1  9  4  7  5  6  7  2  4  6  3  7  3  8  6  7  6  2  2  9  4 10  4\n",
      "  7  5  5  1  5  5  4  4  9  2  3  3  4  2  8  2  0  7 10  1 11  7  0  3\n",
      "  3  2  2  4  3  9  4  9  8  7  3  8  5  3  4  8  6  9 11  8  2  8  6  7\n",
      "  6 10  8  5  8  4  5  3  5  2 12  5  6  3  5  4  4  6  3  4  5  5  8  3\n",
      "  4  6  3  7  5  9  5  6  4  4  8  8  4  7  5  1  6  5  5  2  3  8  5  5\n",
      "  5  8  7  2  3  4  1  6  8  7  5  5  4  7  2  3  5  5  6  4  5  4  5 11\n",
      "  3  4  3  3  6  6  9  4  1  4  1  3  5 10  6  6  6  3  4  7  2  5  4  6\n",
      "  6  9  7  5  7  5  6 10  7  6  5  2  7  6 12  5  5  7  3  5  8  4  9  6\n",
      "  3  8  2  5  7  2  4  4  2  8  6  9  4  4  5  2  2  4  4  6  9  6  1  5\n",
      "  3  4  7  4  5  6  3  5  3  5  4  6  7 11 10  5  5  5  4  5  6  7  3  3\n",
      "  8  4  3  4  5  7  3  8  1  5  0  4  7  5  7  3  8  7  5  1  5  7  5  6\n",
      "  6  5  4  5  3  6  4  4  8  3  5  7  9  5  6  7  6  6 10  6  6 10  2  7\n",
      "  6  8  7  4  2  5  2  3  7  5 11  4  4  7  6  6  4 10  2  8 10  4  7  3\n",
      "  5  3  3  6 10  3  6  6  6  8  3  2  5  4  3  5  6  5  5  7  5  6  5  4\n",
      "  5  3  6  6  5 10  6  8  4  5  5  2  0  5  4  6  5  5  4  7  6  7  4  4\n",
      "  2  6  3 11  2  6  5  7  9  2  5  3  3  6  4  5  5  7  5  7  2  6  2  9\n",
      "  7  6  5  5  6 11  3  2  2  5  9  6  4  7  4  4  3  1  5  4  6  6  5  7\n",
      "  2  2  3  3  4  3  7  3  6  5  9  3  4  7  2  4  6  1  4  9  9  5  6  4\n",
      "  2  3  2  4  5  2  8 10  6  6  8  5  6  7  6  6  6  3  5  4  5  4  7  4\n",
      "  4 10  8  4  7  8  5  2  7  4 10  4  5  9  1  4  3  6  6  4  8  4  7  7\n",
      "  2  8  2  2  3  7  2  7  6  4  6  6  5  6  6  3  2  8  7  3  4  3  5  7\n",
      "  2  4  6  5  1  6  3  2  3  9  6  7  4  2  4  7  3  3  4  7  6  4 11  6\n",
      "  3  3  5  7  4  4  4  2  7  5  6  6  2  6  5  1  5  5  8 10  3  4  3  9\n",
      "  4  8  6  3  5  5  2  5  5  4  6  3 10  3  6  3  5  5  2  6  9  6  1  6\n",
      "  5  5  7  4  4  3  6  7  4  8  4  4  4  4  2  5  9  6  2  6  4  4  9  6\n",
      "  5  8  6  5  9  3 11  2  5  5  3 10  2  8  9  2  5  5  7  4  4  5  6  5\n",
      "  5  4  2  4  4  3  5  6  4  8  0  5  5  4  2 12  3  5  6  4  3  6  3  5\n",
      "  5  7  4  8  2  6  6  5 11  5  5  5  9  4  3  7  7  3  8  5  4  4  2  2\n",
      "  4  7  5  4  7  7 10 10  2  8  5  6  2  6  4  5  4  4 11  3  3  6  7  6\n",
      "  6 10  4  6  4  7  9  4  3  8  5  7  3  2  4  5  2  4  2  5  6  6  6  4\n",
      "  5  3  7  7  2  3  3  1  2  3  7  5  3  3  9  4  3  6  3  5  2  4  3  3\n",
      "  5  2  7  7  3  5  3  6  6  6  4  3  4  3 11  3  5  7 10  5  6  7  8  5\n",
      "  6  5  4  2  3 11  4  7  3  2  7  3  5  2  3  4  5  6  2  6  2  4  1 12\n",
      "  8  3  4  7  3  7  4  9  4  1  5  7 12  3  8  4  2  6  5  2  6  7  7  6\n",
      "  5  3  9  2  4  3  5  4  0  6  3  6  9  6  2  5  5  5  4  7  9  6  4  3\n",
      "  6  4 10  2  6  8  6  8  5  3  2  4  4  3  6  7]\n"
     ]
    }
   ],
   "source": [
    "#Generate 1000 random samples from this poisson distribution using python\n",
    "#Set the average rate (lambda) to 5 customers per day\n",
    "lambda_ = 5\n",
    "samples = np.random.poisson(lambda_, size=1000)\n",
    "\n",
    "print(samples)\n"
   ]
  },
  {
   "cell_type": "code",
   "execution_count": 3,
   "metadata": {},
   "outputs": [
    {
     "name": "stdout",
     "output_type": "stream",
     "text": [
      "Mean: 5.133\n"
     ]
    }
   ],
   "source": [
    "#Calculate and print the mean and variance of the generated samples.\n",
    "# Calculate the mean of the samples\n",
    "mean = np.mean(samples)\n",
    "print(\"Mean:\", mean)"
   ]
  },
  {
   "cell_type": "code",
   "execution_count": 4,
   "metadata": {},
   "outputs": [
    {
     "name": "stdout",
     "output_type": "stream",
     "text": [
      "Variance: 5.395311\n"
     ]
    }
   ],
   "source": [
    "# Calculate the variance of the samples\n",
    "variance = np.var(samples)\n",
    "print(\"Variance:\", variance)"
   ]
  }
 ],
 "metadata": {
  "kernelspec": {
   "display_name": "Python 3",
   "language": "python",
   "name": "python3"
  },
  "language_info": {
   "codemirror_mode": {
    "name": "ipython",
    "version": 3
   },
   "file_extension": ".py",
   "mimetype": "text/x-python",
   "name": "python",
   "nbconvert_exporter": "python",
   "pygments_lexer": "ipython3",
   "version": "3.13.0"
  }
 },
 "nbformat": 4,
 "nbformat_minor": 2
}
