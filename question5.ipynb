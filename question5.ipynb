{
 "cells": [
  {
   "cell_type": "code",
   "execution_count": 5,
   "metadata": {},
   "outputs": [],
   "source": [
    "import numpy as np  "
   ]
  },
  {
   "cell_type": "code",
   "execution_count": 6,
   "metadata": {},
   "outputs": [
    {
     "name": "stdout",
     "output_type": "stream",
     "text": [
      "[[1.  0.2 0.5]\n",
      " [0.2 1.  0.8]\n",
      " [0.5 0.8 1. ]]\n"
     ]
    }
   ],
   "source": [
    "#Matrix_M =([[1,0.2,0.5],[0.2,1,0.8],[0.5,0.8,1]])\n",
    "#let matrix be M\n",
    "matrix_M = np.array([[1,0.2,0.5],[0.2,1,0.8],[0.5,0.8,1]])\n",
    "print(matrix_M)\n",
    "\n"
   ]
  },
  {
   "cell_type": "code",
   "execution_count": 9,
   "metadata": {},
   "outputs": [
    {
     "name": "stdout",
     "output_type": "stream",
     "text": [
      "[[ 1.56521739  0.86956522 -1.47826087]\n",
      " [ 0.86956522  3.26086957 -3.04347826]\n",
      " [-1.47826087 -3.04347826  4.17391304]]\n"
     ]
    }
   ],
   "source": [
    "#(i)Compute an Inversion of the matrix(Transpose)\n",
    "matrix_M = np.array([[1, 0.2, 0.5], [0.2, 1, 0.8], [0.5, 0.8, 1]])\n",
    "inverse_M = np.linalg.inv(matrix_M)\n",
    "\n",
    "print(inverse_M)\n",
    "\n"
   ]
  },
  {
   "cell_type": "code",
   "execution_count": 10,
   "metadata": {},
   "outputs": [
    {
     "name": "stdout",
     "output_type": "stream",
     "text": [
      "0.2299999999999999\n"
     ]
    }
   ],
   "source": [
    "#Compute the (deteminant) of the matrix if  possible\n",
    "matrix_M = np.array([[1, 0.2, 0.5], [0.2, 1, 0.8], [0.5, 0.8, 1]])\n",
    "determinant_M = np.linalg.det(matrix_M)\n",
    "\n",
    "print(determinant_M)\n"
   ]
  },
  {
   "cell_type": "code",
   "execution_count": 11,
   "metadata": {},
   "outputs": [],
   "source": [
    "#Decompose the matrix\n",
    "#Start with the original matrix M:\n",
    "\n",
    "M = [[1, 0.2, 0.5],\n",
    "[0.2, 1, 0.8],\n",
    "[0.5, 0.8, 1]]\n",
    "\n",
    "#Initialize the L and U matrices with the same shape as M, filled with zeros:\n",
    "\n",
    "L = [[0, 0, 0],\n",
    "     [0, 0, 0],\n",
    "     [0, 0, 0]]\n",
    "\n",
    "U = [[0, 0, 0],\n",
    "     [0, 0, 0],\n",
    "     [0, 0, 0]]\n",
    "\n",
    "#diagonal elements of L with ones:\n",
    "\n",
    "L = [[1, 0, 0],\n",
    "[0, 1, 0],\n",
    "[0, 0, 1]]\n"
   ]
  },
  {
   "cell_type": "code",
   "execution_count": 12,
   "metadata": {},
   "outputs": [
    {
     "data": {
      "text/plain": [
       "array([[1. , 0.2, 0.5],\n",
       "       [0.2, 1. , 0.8],\n",
       "       [0.5, 0.8, 1. ]])"
      ]
     },
     "execution_count": 12,
     "metadata": {},
     "output_type": "execute_result"
    }
   ],
   "source": [
    "#Transform the matrix\n",
    "matrix_M.T\n"
   ]
  },
  {
   "cell_type": "code",
   "execution_count": null,
   "metadata": {},
   "outputs": [],
   "source": []
  }
 ],
 "metadata": {
  "kernelspec": {
   "display_name": "Python 3",
   "language": "python",
   "name": "python3"
  },
  "language_info": {
   "codemirror_mode": {
    "name": "ipython",
    "version": 3
   },
   "file_extension": ".py",
   "mimetype": "text/x-python",
   "name": "python",
   "nbconvert_exporter": "python",
   "pygments_lexer": "ipython3",
   "version": "3.13.0"
  }
 },
 "nbformat": 4,
 "nbformat_minor": 2
}
